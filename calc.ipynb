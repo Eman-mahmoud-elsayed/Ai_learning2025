{
 "cells": [
  {
   "cell_type": "code",
   "execution_count": null,
   "metadata": {},
   "outputs": [
    {
     "name": "stdout",
     "output_type": "stream",
     "text": [
      "\n",
      "Select an operation:\n",
      "1. Addition\n",
      "2. Subtraction\n",
      "3. Multiplication\n",
      "4. Division\n",
      "5. Exit\n",
      "Thank you for using the calculator. Goodbye!\n"
     ]
    }
   ],
   "source": [
    "\"\"\" Basic Calculator\"\"\"\n",
    "\n",
    "def get_valid_number(user_message):\n",
    "    \"\"\"ask  the user for a number and  check validate the input.\"\"\"\n",
    "    while True:\n",
    "        try:\n",
    "            return float(input(user_message))\n",
    "        except ValueError:\n",
    "            print(\"Invalid input. Please enter a valid number.\")\n",
    "\n",
    "def basic_calculator():\n",
    "    \"\"\"Main calculator function.\"\"\"\n",
    "    while True:\n",
    "        # Display operation options\n",
    "        print(\"\\nSelect an operation:\")\n",
    "        print(\"1. Addition\")\n",
    "        print(\"2. Subtraction\")\n",
    "        print(\"3. Multiplication\")\n",
    "        print(\"4. Division\")\n",
    "        print(\"5. Exit\")\n",
    "\n",
    "        # Get user's choice\n",
    "        choice = input(\"Enter your choice (1/2/3/4/5): \")\n",
    "\n",
    "        # Exit the program if the user chooses to\n",
    "        if choice == '5':\n",
    "            print(\"Thank you for using the calculator. Goodbye!\")\n",
    "            break\n",
    "\n",
    "        # Validate the choice\n",
    "        if choice not in ['1', '2', '3', '4']:\n",
    "            print(\"Invalid choice. Please select a valid operation.\")\n",
    "            continue\n",
    "\n",
    "        # Get two numbers from the user\n",
    "        num1 = get_valid_number(\"Enter the first number: \")\n",
    "        num2 = get_valid_number(\"Enter the second number: \")\n",
    "\n",
    "        # Perform the selected operation\n",
    "        if choice == '1':\n",
    "            result = num1 + num2\n",
    "            print(f\"The result of adding {num1} and {num2} is {result}.\")\n",
    "        elif choice == '2':\n",
    "            result = num1 - num2\n",
    "            print(f\"The result of subtracting {num2} from {num1} is {result}.\")\n",
    "        elif choice == '3':\n",
    "            result = num1 * num2\n",
    "            print(f\"The result of multiplying {num1} and {num2} is {result}.\")\n",
    "        elif choice == '4':\n",
    "            if num2 == 0:\n",
    "                print(\"Error: Division by zero is not allowed.\")\n",
    "            else:\n",
    "                result = num1 / num2\n",
    "                print(f\"The result of dividing {num1} by {num2} is {result}.\")\n",
    "\n",
    "        # Ask if the user wants to perform another calculation\n",
    "        again = input(\"Do you want to perform another calculation? (yes/no): \").lower()\n",
    "        if again != 'yes':\n",
    "            print(\"Thank you for using the calculator. Goodbye!\")\n",
    "            break\n",
    "\n",
    "# Run the calculator\n",
    "basic_calculator()"
   ]
  },
  {
   "cell_type": "code",
   "execution_count": null,
   "metadata": {},
   "outputs": [],
   "source": []
  }
 ],
 "metadata": {
  "kernelspec": {
   "display_name": "env",
   "language": "python",
   "name": "python3"
  },
  "language_info": {
   "codemirror_mode": {
    "name": "ipython",
    "version": 3
   },
   "file_extension": ".py",
   "mimetype": "text/x-python",
   "name": "python",
   "nbconvert_exporter": "python",
   "pygments_lexer": "ipython3",
   "version": "3.11.0rc2"
  }
 },
 "nbformat": 4,
 "nbformat_minor": 2
}
