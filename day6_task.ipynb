{
 "cells": [
  {
   "cell_type": "code",
   "execution_count": 1,
   "metadata": {},
   "outputs": [
    {
     "name": "stdout",
     "output_type": "stream",
     "text": [
      "[[1. 1. 1. 1. 1.]\n",
      " [1. 0. 0. 0. 1.]\n",
      " [1. 0. 0. 0. 1.]\n",
      " [1. 0. 0. 0. 1.]\n",
      " [1. 1. 1. 1. 1.]]\n"
     ]
    }
   ],
   "source": [
    "import numpy as np\n",
    "\n",
    "def create_border_matrix(rows, cols):\n",
    "  \"\"\"Creates a NumPy matrix with ones at the borders and zeros inside.\"\"\"\n",
    "  matrix = np.ones((rows, cols))\n",
    "  matrix[1:-1, 1:-1] = 0\n",
    "  return matrix\n",
    "\n",
    "matrix_5x5 = create_border_matrix(5, 5)\n",
    "print(matrix_5x5)"
   ]
  },
  {
   "cell_type": "code",
   "execution_count": 2,
   "metadata": {},
   "outputs": [
    {
     "name": "stdout",
     "output_type": "stream",
     "text": [
      "[[1 3 3 3 2]\n",
      " [3 1 3 2 3]\n",
      " [3 3 2 3 3]\n",
      " [3 2 3 1 3]\n",
      " [2 3 3 3 1]]\n"
     ]
    }
   ],
   "source": [
    "import numpy as np\n",
    "\n",
    "def create_diagonal_matrix(size):\n",
    "  \"\"\"Creates a square matrix with diagonals set to 1 and 2, and other elements to 3.\"\"\"\n",
    "  matrix = np.full((size, size), 3)  # Initialize with 3s\n",
    "\n",
    "  for i in range(size):\n",
    "    matrix[i, i] = 1  # Set primary diagonal to 1\n",
    "    matrix[i, size - 1 - i] = 2 # set secondary diagonal to 2\n",
    "\n",
    "  return matrix\n",
    "\n",
    "matrix_5x5 = create_diagonal_matrix(5)\n",
    "print(matrix_5x5)"
   ]
  },
  {
   "cell_type": "code",
   "execution_count": null,
   "metadata": {},
   "outputs": [],
   "source": []
  }
 ],
 "metadata": {
  "kernelspec": {
   "display_name": "env",
   "language": "python",
   "name": "python3"
  },
  "language_info": {
   "codemirror_mode": {
    "name": "ipython",
    "version": 3
   },
   "file_extension": ".py",
   "mimetype": "text/x-python",
   "name": "python",
   "nbconvert_exporter": "python",
   "pygments_lexer": "ipython3",
   "version": "3.11.0"
  }
 },
 "nbformat": 4,
 "nbformat_minor": 2
}
